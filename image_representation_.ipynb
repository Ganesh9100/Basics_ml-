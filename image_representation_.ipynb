{
  "nbformat": 4,
  "nbformat_minor": 0,
  "metadata": {
    "colab": {
      "name": "image  representation .ipynb",
      "provenance": [],
      "collapsed_sections": [],
      "authorship_tag": "ABX9TyOtrevE8nibUqF0TM87/T0u",
      "include_colab_link": true
    },
    "kernelspec": {
      "name": "python3",
      "display_name": "Python 3"
    }
  },
  "cells": [
    {
      "cell_type": "markdown",
      "metadata": {
        "id": "view-in-github",
        "colab_type": "text"
      },
      "source": [
        "<a href=\"https://colab.research.google.com/github/Ganesh9100/Raj9100/blob/master/image_representation_.ipynb\" target=\"_parent\"><img src=\"https://colab.research.google.com/assets/colab-badge.svg\" alt=\"Open In Colab\"/></a>"
      ]
    },
    {
      "cell_type": "code",
      "metadata": {
        "id": "FiAxD9LCUU2j",
        "colab_type": "code",
        "colab": {}
      },
      "source": [
        "from PIL import Image\n",
        "import numpy as np\n"
      ],
      "execution_count": 0,
      "outputs": []
    },
    {
      "cell_type": "code",
      "metadata": {
        "id": "1bVNgs8aUzKS",
        "colab_type": "code",
        "outputId": "3d00fec0-9e2b-40bf-8202-474b4c32503b",
        "colab": {
          "base_uri": "https://localhost:8080/",
          "height": 867
        }
      },
      "source": [
        "i = Image.open('a.jpeg')\n",
        "iar = np.asarray(i)\n",
        "print(iar)\n",
        "print(iar.shape[1])"
      ],
      "execution_count": 0,
      "outputs": [
        {
          "output_type": "stream",
          "text": [
            "[[[ 21  19  22]\n",
            "  [ 17  15  16]\n",
            "  [ 11   9  10]\n",
            "  ...\n",
            "  [ 75  65  56]\n",
            "  [ 75  65  56]\n",
            "  [ 74  64  55]]\n",
            "\n",
            " [[ 21  19  22]\n",
            "  [ 17  15  16]\n",
            "  [ 11   9  10]\n",
            "  ...\n",
            "  [ 75  65  56]\n",
            "  [ 75  65  56]\n",
            "  [ 74  64  55]]\n",
            "\n",
            " [[ 21  19  22]\n",
            "  [ 17  15  18]\n",
            "  [ 12  10  11]\n",
            "  ...\n",
            "  [ 75  65  56]\n",
            "  [ 75  65  56]\n",
            "  [ 74  64  55]]\n",
            "\n",
            " ...\n",
            "\n",
            " [[130 123 130]\n",
            "  [150 143 150]\n",
            "  [165 158 165]\n",
            "  ...\n",
            "  [196 193 202]\n",
            "  [196 193 202]\n",
            "  [196 193 202]]\n",
            "\n",
            " [[152 145 152]\n",
            "  [177 170 177]\n",
            "  [193 186 193]\n",
            "  ...\n",
            "  [196 193 202]\n",
            "  [196 193 202]\n",
            "  [196 193 202]]\n",
            "\n",
            " [[174 167 174]\n",
            "  [196 189 196]\n",
            "  [204 197 204]\n",
            "  ...\n",
            "  [196 193 202]\n",
            "  [196 193 202]\n",
            "  [196 193 202]]]\n",
            "300\n"
          ],
          "name": "stdout"
        }
      ]
    },
    {
      "cell_type": "code",
      "metadata": {
        "id": "396c0zbftrJu",
        "colab_type": "code",
        "outputId": "34a57386-312c-4702-c136-3deb1f72ad1d",
        "colab": {
          "base_uri": "https://localhost:8080/",
          "height": 68
        }
      },
      "source": [
        "v=iar.reshape(iar.shape[0]*iar.shape[1]*iar.shape[2],1) #image to vector step \n",
        "\n",
        "print(iar.shape[0]) # restlt is dimension so 168\n",
        "print(iar.shape[1])  # result in dimension 300\n",
        "print(iar.shape[2])      # no of channel 3-rbg colour image 2- black and white image \n",
        "\n",
        "\n"
      ],
      "execution_count": 0,
      "outputs": [
        {
          "output_type": "stream",
          "text": [
            "168\n",
            "300\n",
            "3\n"
          ],
          "name": "stdout"
        }
      ]
    },
    {
      "cell_type": "code",
      "metadata": {
        "id": "6dofrMGIut_T",
        "colab_type": "code",
        "outputId": "3cbd15cd-996d-49b9-e8b9-33c24f5131b3",
        "colab": {
          "base_uri": "https://localhost:8080/",
          "height": 136
        }
      },
      "source": [
        "print(v) # sot its dimension is 2592 * 1936 * 3 . so 151200 rows will be there and 1 column "
      ],
      "execution_count": 0,
      "outputs": [
        {
          "output_type": "stream",
          "text": [
            "[[ 21]\n",
            " [ 19]\n",
            " [ 22]\n",
            " ...\n",
            " [196]\n",
            " [193]\n",
            " [202]]\n"
          ],
          "name": "stdout"
        }
      ]
    },
    {
      "cell_type": "code",
      "metadata": {
        "id": "RnIiY_YovMVZ",
        "colab_type": "code",
        "colab": {}
      },
      "source": [
        "\n"
      ],
      "execution_count": 0,
      "outputs": []
    },
    {
      "cell_type": "code",
      "metadata": {
        "id": "GZMYsDErMha2",
        "colab_type": "code",
        "colab": {}
      },
      "source": [
        ""
      ],
      "execution_count": 0,
      "outputs": []
    }
  ]
}