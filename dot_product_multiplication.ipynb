{
  "nbformat": 4,
  "nbformat_minor": 0,
  "metadata": {
    "colab": {
      "name": "dot product multiplication.ipynb",
      "provenance": [],
      "authorship_tag": "ABX9TyNFQS5OQT/IDLB5cDFazrUs",
      "include_colab_link": true
    },
    "kernelspec": {
      "name": "python3",
      "display_name": "Python 3"
    }
  },
  "cells": [
    {
      "cell_type": "markdown",
      "metadata": {
        "id": "view-in-github",
        "colab_type": "text"
      },
      "source": [
        "<a href=\"https://colab.research.google.com/github/Ganesh9100/Raj9100/blob/master/dot_product_multiplication.ipynb\" target=\"_parent\"><img src=\"https://colab.research.google.com/assets/colab-badge.svg\" alt=\"Open In Colab\"/></a>"
      ]
    },
    {
      "cell_type": "code",
      "metadata": {
        "id": "P8paWKCfQ9sw",
        "colab_type": "code",
        "colab": {
          "base_uri": "https://localhost:8080/",
          "height": 34
        },
        "outputId": "8818b931-9b78-4c1f-8012-43eb07d0adde"
      },
      "source": [
        "# dot product (  NON VECTORISATION METHOD)\n",
        "\n",
        "x1 = [9, 2]\n",
        "x2 = [9, 2]\n",
        "\n",
        "dot = 0\n",
        "for i in range(len(x1)):\n",
        "    dot+= x1[i]*x2[i]\n",
        "\n",
        "print(\"dot = \" + str(dot))    "
      ],
      "execution_count": 2,
      "outputs": [
        {
          "output_type": "stream",
          "text": [
            "dot = 85\n"
          ],
          "name": "stdout"
        }
      ]
    },
    {
      "cell_type": "code",
      "metadata": {
        "id": "bN2LSAhYSXM_",
        "colab_type": "code",
        "colab": {
          "base_uri": "https://localhost:8080/",
          "height": 85
        },
        "outputId": "3551d762-0693-4239-804b-364b0aa6b2e1"
      },
      "source": [
        "# DOT PRODUCT FOR 2D ARRAY IS SAME AS MATRIX MULTIPLICATION AS WE DO \n",
        "import numpy as np\n",
        "a = np.array([[1,2],[3,4]]) \n",
        "b = np.array([[11,12],[13,14]]) \n",
        "ans=np.dot(a,b)\n",
        "\n",
        "print(\"for 2d array \" +str(ans))\n",
        "print()\n",
        "\n",
        "\n",
        "\n",
        "\n",
        "# DOT PRODUCT FOR 1D ARRAY IS INNER PRODUCT \n",
        "import numpy as np\n",
        "\n",
        "x1 = [9, 2]\n",
        "x2 = [9, 2]\n",
        "\n",
        "ANS = np.dot(x1,x2)\n",
        "print(\"for 1d array \"+str(ANS))\n",
        "\n",
        "\n",
        "\n"
      ],
      "execution_count": 10,
      "outputs": [
        {
          "output_type": "stream",
          "text": [
            "for 2d array [[37 40]\n",
            " [85 92]]\n",
            "\n",
            "for 1d array 85\n"
          ],
          "name": "stdout"
        }
      ]
    },
    {
      "cell_type": "code",
      "metadata": {
        "id": "pp8i5v3eRKnU",
        "colab_type": "code",
        "colab": {}
      },
      "source": [
        "# DOT PRODUCT ( VECTORISATION METHOD )"
      ],
      "execution_count": 0,
      "outputs": []
    },
    {
      "cell_type": "code",
      "metadata": {
        "id": "2ozvzbhySVEQ",
        "colab_type": "code",
        "colab": {}
      },
      "source": [
        ""
      ],
      "execution_count": 0,
      "outputs": []
    }
  ]
}